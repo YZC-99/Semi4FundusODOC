{
 "cells": [
  {
   "cell_type": "code",
   "execution_count": 1,
   "metadata": {
    "collapsed": true
   },
   "outputs": [],
   "source": [
    "import torch\n",
    "import torch.nn as nn\n",
    "import torch.nn.functional as F"
   ]
  },
  {
   "cell_type": "code",
   "execution_count": 25,
   "outputs": [
    {
     "name": "stdout",
     "output_type": "stream",
     "text": [
      "torch.Size([32768, 3])\n",
      "torch.Size([3, 3])\n",
      "torch.Size([2, 3, 128, 128])\n"
     ]
    }
   ],
   "source": [
    "feats_channels = 3\n",
    "num_classess = 3\n",
    "feats = torch.randn(2,3,128,128)\n",
    "preds = torch.randn(2,3,128,128)\n",
    "\n",
    "batch_size,num_channels,h,w = feats.size()\n",
    "weight_cls = preds.permute(0,2,3,1)\n",
    "weight_cls = weight_cls.reshape(-1,num_classess)\n",
    "weight_cls = F.softmax(weight_cls,dim=-1)\n",
    "# 主要是形成高斯分布的均值和方差，有几个class就有几组\n",
    "memory = nn.Parameter(torch.cat([\n",
    "    torch.zeros(num_classess,1,dtype=torch.float),torch.ones(num_classess,1,dtype=torch.float)],dim=1),requires_grad=False)\n",
    "memory_means = memory.data[:,0]\n",
    "memory_stds = memory.data[:,1]\n",
    "memory_list = []\n",
    "\n",
    "for idx in range(num_classess):\n",
    "    torch.manual_seed(idx)\n",
    "    cls_memory = torch.normal(mean=torch.full((1,feats_channels),memory_means[idx]),\n",
    "                              std=torch.full((1,feats_channels),memory_stds[idx]))\n",
    "    memory_list.append(cls_memory)\n",
    "\n",
    "memory_tensor = torch.cat(memory_list,dim=0)\n",
    "selected_memory = torch.matmul(weight_cls,memory_tensor)\n",
    "\n",
    "selected_memory = selected_memory.view(batch_size,h,w,num_channels)\n",
    "selected_memory = selected_memory.permute(0,3,1,2)\n",
    "print(weight_cls.shape)\n",
    "print(memory_tensor.shape)\n",
    "print(selected_memory.shape)"
   ],
   "metadata": {
    "collapsed": false,
    "pycharm": {
     "name": "#%%\n"
    }
   }
  },
  {
   "cell_type": "code",
   "execution_count": 9,
   "outputs": [
    {
     "data": {
      "text/plain": "torch.Size([1, 256])"
     },
     "execution_count": 9,
     "metadata": {},
     "output_type": "execute_result"
    }
   ],
   "source": [
    "torch.full((1,256),0).shape\n"
   ],
   "metadata": {
    "collapsed": false,
    "pycharm": {
     "name": "#%%\n"
    }
   }
  }
 ],
 "metadata": {
  "kernelspec": {
   "display_name": "Python 3",
   "language": "python",
   "name": "python3"
  },
  "language_info": {
   "codemirror_mode": {
    "name": "ipython",
    "version": 2
   },
   "file_extension": ".py",
   "mimetype": "text/x-python",
   "name": "python",
   "nbconvert_exporter": "python",
   "pygments_lexer": "ipython2",
   "version": "2.7.6"
  }
 },
 "nbformat": 4,
 "nbformat_minor": 0
}