{
 "cells": [
  {
   "cell_type": "code",
   "execution_count": 1,
   "metadata": {
    "collapsed": true
   },
   "outputs": [],
   "source": [
    "from torch.distributions import normal\n",
    "import torch\n"
   ]
  },
  {
   "cell_type": "code",
   "execution_count": 11,
   "outputs": [],
   "source": [
    "cls_num_list = torch.tensor([100,30,10])\n",
    "pred = torch.randn(8,3,256,256)\n",
    "sigma = 4\n",
    "sampler = normal.Normal(0,sigma)"
   ],
   "metadata": {
    "collapsed": false,
    "pycharm": {
     "name": "#%%\n"
    }
   }
  },
  {
   "cell_type": "code",
   "execution_count": 12,
   "outputs": [
    {
     "name": "stdout",
     "output_type": "stream",
     "text": [
      "torch.Size([8, 3, 256, 256])\n"
     ]
    }
   ],
   "source": [
    "cls_list = cls_num_list\n",
    "frequency_list = torch.log(cls_list)\n",
    "frequency_list = torch.log(sum(cls_num_list)) - frequency_list\n",
    "# clamp是将所有采样的元素大小限定在[-1，1]之间\n",
    "viariation = sampler.sample(pred.shape).clamp(-1,1)\n",
    "pred = pred + (viariation.abs().permute(0,2,3,1) / frequency_list.max() * frequency_list).permute(0,3,1,2)\n",
    "print(viariation.shape)"
   ],
   "metadata": {
    "collapsed": false,
    "pycharm": {
     "name": "#%%\n"
    }
   }
  },
  {
   "cell_type": "code",
   "execution_count": 25,
   "outputs": [
    {
     "name": "stdout",
     "output_type": "stream",
     "text": [
      "torch.Size([8, 256, 256, 3])\n",
      "torch.Size([3])\n",
      "torch.Size([8, 256, 256, 3])\n"
     ]
    }
   ],
   "source": [
    "tmp1 = frequency_list.max()* frequency_list\n",
    "print(viariation.permute(0,2,3,1).shape)\n",
    "print(tmp1.shape)\n",
    "print((viariation.permute(0,2,3,1) * tmp1).shape)"
   ],
   "metadata": {
    "collapsed": false,
    "pycharm": {
     "name": "#%%\n"
    }
   }
  },
  {
   "cell_type": "code",
   "execution_count": 28,
   "outputs": [
    {
     "data": {
      "text/plain": "tensor([[1., 2., 1.],\n        [1., 2., 1.],\n        [1., 2., 1.]])"
     },
     "execution_count": 28,
     "metadata": {},
     "output_type": "execute_result"
    }
   ],
   "source": [
    "t1 = torch.ones(3,3)\n",
    "t2 = torch.tensor([1,2,1])\n",
    "t1*t2"
   ],
   "metadata": {
    "collapsed": false,
    "pycharm": {
     "name": "#%%\n"
    }
   }
  }
 ],
 "metadata": {
  "kernelspec": {
   "display_name": "Python 3",
   "language": "python",
   "name": "python3"
  },
  "language_info": {
   "codemirror_mode": {
    "name": "ipython",
    "version": 2
   },
   "file_extension": ".py",
   "mimetype": "text/x-python",
   "name": "python",
   "nbconvert_exporter": "python",
   "pygments_lexer": "ipython2",
   "version": "2.7.6"
  }
 },
 "nbformat": 4,
 "nbformat_minor": 0
}