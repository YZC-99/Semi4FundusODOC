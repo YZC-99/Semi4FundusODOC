{
 "cells": [
  {
   "cell_type": "code",
   "execution_count": 66,
   "metadata": {
    "collapsed": true
   },
   "outputs": [],
   "source": [
    "import numpy as np\n",
    "from PIL import Image\n",
    "from make_gts import color_map\n",
    "import os\n",
    "from segment.dataloader.transform import crop, hflip,vflip, normalize, resize, blur, cutout,dist_transform,random_scale_and_crop\n",
    "from segment.dataloader.transform import random_rotate,random_translate,add_salt_pepper_noise,random_scale,color_distortion\n",
    "import cv2\n",
    "import re"
   ]
  },
  {
   "cell_type": "code",
   "execution_count": 57,
   "outputs": [],
   "source": [
    "cmap = color_map('fundus')"
   ],
   "metadata": {
    "collapsed": false,
    "pycharm": {
     "name": "#%%\n"
    }
   }
  },
  {
   "cell_type": "code",
   "execution_count": 28,
   "outputs": [],
   "source": [],
   "metadata": {
    "collapsed": false,
    "pycharm": {
     "name": "#%%\n"
    }
   }
  },
  {
   "cell_type": "code",
   "execution_count": 65,
   "outputs": [
    {
     "name": "stdout",
     "output_type": "stream",
     "text": [
      "[0 1 2]\n",
      "(512, 512)\n"
     ]
    }
   ],
   "source": [
    "root = '/root/autodl-tmp/data/Drishti-GS'\n",
    "whole_path = '/root/autodl-tmp/Semi4FundusODOC/dataset/Drishti-GS/SEG.txt'\n",
    "whole_cropped_path = '/root/autodl-tmp/Semi4FundusODOC/dataset/Drishti-GS/all_cropped.txt'\n",
    "with open(whole_path, 'r') as f:\n",
    "    whole_ids = f.read().splitlines()\n",
    "with open(whole_cropped_path,'a') as cf:\n",
    "    for id in whole_ids:\n",
    "        img_path = os.path.join(root, id.split(' ')[0])\n",
    "        mask_path = os.path.join(root, id.split(' ')[1])\n",
    "        img = Image.open(img_path)\n",
    "        mask = Image.open(mask_path)\n",
    "\n",
    "        mask_path = mask_path.replace('my_gts','my_gts_cropped')\n",
    "        if 'images' in img_path:\n",
    "            img_path = img_path.replace('images','images_cropped')\n",
    "        if 'Images' in img_path:\n",
    "            img_path = img_path.replace('Images','images_cropped')\n",
    "        if '650image' in img_path:\n",
    "            img_path = img_path.replace('650image','images_cropped')\n",
    "        if 'MESSIDOR' in img_path:\n",
    "            img_path = img_path.replace('MESSIDOR','MESSIDOR_cropped')\n",
    "        if 'Magrabia' in img_path:\n",
    "            img_path = img_path.replace('Magrabia','Magrabia_cropped')\n",
    "        if 'BinRushed' in img_path:\n",
    "            img_path = img_path.replace('BinRushed','BinRushed_cropped')\n",
    "        if 'imgs' in img_path:\n",
    "            img_path = img_path.replace('imgs','images_cropped')\n",
    "        image_name = os.path.basename(img_path)\n",
    "        mask_name = os.path.basename(mask_path)\n",
    "        img_root = img_path.split(image_name)[0]\n",
    "        mask_root = mask_path.split(mask_name)[0]\n",
    "        if not os.path.exists(img_root):\n",
    "            os.makedirs(img_root)\n",
    "        if not os.path.exists(mask_root):\n",
    "            os.makedirs(mask_root)\n",
    "        mask_name = os.path.basename(mask_path)\n",
    "        cropped_img_path = os.path.join(img_root,image_name)\n",
    "        cropped_mask_path = os.path.join(mask_root,mask_name)\n",
    "        cf.write(cropped_img_path+' '+cropped_mask_path+'\\n')\n",
    "        # flip\n",
    "        img,mask = hflip(img,mask,p=1.0)\n",
    "        img,mask = vflip(img,mask,p=1.0)\n",
    "        # 保存\n",
    "        img.save(cropped_img_path)\n",
    "print('done')\n"
   ],
   "metadata": {
    "collapsed": false,
    "pycharm": {
     "name": "#%%\n"
    }
   }
  }
 ],
 "metadata": {
  "kernelspec": {
   "display_name": "Python 3",
   "language": "python",
   "name": "python3"
  },
  "language_info": {
   "codemirror_mode": {
    "name": "ipython",
    "version": 2
   },
   "file_extension": ".py",
   "mimetype": "text/x-python",
   "name": "python",
   "nbconvert_exporter": "python",
   "pygments_lexer": "ipython2",
   "version": "2.7.6"
  }
 },
 "nbformat": 4,
 "nbformat_minor": 0
}