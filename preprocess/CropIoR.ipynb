{
 "cells": [
  {
   "cell_type": "code",
   "execution_count": 66,
   "metadata": {
    "collapsed": true
   },
   "outputs": [],
   "source": [
    "import numpy as np\n",
    "from PIL import Image\n",
    "from make_gts import color_map\n",
    "import os\n",
    "import re"
   ]
  },
  {
   "cell_type": "code",
   "execution_count": 57,
   "outputs": [],
   "source": [
    "cmap = color_map('fundus')"
   ],
   "metadata": {
    "collapsed": false,
    "pycharm": {
     "name": "#%%\n"
    }
   }
  },
  {
   "cell_type": "code",
   "execution_count": 28,
   "outputs": [],
   "source": [
    "def compute_padding(length):\n",
    "    length_padding = 512-length\n",
    "    left_bottom_padding = np.around(length_padding/2).astype(np.uint8)\n",
    "    right_top_padding = left_bottom_padding\n",
    "    if not length_padding % 2:\n",
    "        right_top_padding += 1\n",
    "    return left_bottom_padding,right_top_padding\n",
    "\n",
    "def crop(img_path,mask_path):\n",
    "    mask_arr = np.array(Image.open(mask_path))\n",
    "    img_arr = np.array(Image.open(img_path))\n",
    "    shape = mask_arr.shape\n",
    "    mask_lt0= mask_arr > 0\n",
    "    mask_lt0_indexs  = np.where(mask_lt0)\n",
    "    width_idx,height_idx = mask_lt0_indexs[0],mask_lt0_indexs[1]\n",
    "    top,bottom = width_idx.min(),width_idx.max()\n",
    "    left,right = height_idx.min(),height_idx.max()\n",
    "\n",
    "    width = right-left\n",
    "    height = bottom-top\n",
    "    left_padding,right_padding = compute_padding(width)\n",
    "    bottom_padding,top_padding = compute_padding(height)\n",
    "    # 开始裁剪图片\n",
    "    new_left = left-left_padding\n",
    "    new_right = right+right_padding-1\n",
    "    new_bottom = bottom+bottom_padding-1\n",
    "    new_top = top-top_padding\n",
    "\n",
    "    if new_left < 0:\n",
    "        new_right = new_right+(0-new_left)\n",
    "        new_left = 0\n",
    "    if new_right > shape[1]:\n",
    "        new_left = new_left - (new_right-shape[1])\n",
    "        new_right = shape[1]\n",
    "    if new_top < 0:\n",
    "        new_bottom = new_bottom+(0-new_top)\n",
    "        new_top = 0\n",
    "    if new_bottom > shape[0]:\n",
    "        new_top = new_top-(new_bottom-shape[0])\n",
    "        new_bottom = shape[0]\n",
    "\n",
    "\n",
    "    cropped_mask_arr = mask_arr[new_top:new_bottom,new_left:new_right]\n",
    "    cropped_img_arr = img_arr[new_top:new_bottom,new_left:new_right]\n",
    "\n",
    "    cropped_img = Image.fromarray(cropped_img_arr)\n",
    "    cropped_mask = Image.fromarray(cropped_mask_arr,mode='P')\n",
    "    cropped_mask.putpalette(cmap)\n",
    "    return cropped_img,cropped_mask"
   ],
   "metadata": {
    "collapsed": false,
    "pycharm": {
     "name": "#%%\n"
    }
   }
  },
  {
   "cell_type": "code",
   "execution_count": 65,
   "outputs": [
    {
     "name": "stdout",
     "output_type": "stream",
     "text": [
      "[0 1 2]\n",
      "(512, 512)\n"
     ]
    }
   ],
   "source": [
    "root = '/root/autodl-tmp/data/SEG'\n",
    "whole_path = '/root/autodl-tmp/Semi4FundusODOC/dataset/SEG/SEG.txt'\n",
    "whole_cropped_path = '/root/autodl-tmp/Semi4FundusODOC/dataset/SEG/SEG_cropped.txt'\n",
    "with open(whole_path, 'r') as f:\n",
    "    whole_ids = f.read().splitlines()\n",
    "with open(whole_cropped_path,'a') as cf:\n",
    "    for id in whole_ids:\n",
    "        img_path = os.path.join(root, id.split(' ')[0])\n",
    "        mask_path = os.path.join(root, id.split(' ')[1])\n",
    "\n",
    "        cropped_img,cropped_mask = crop(img_path,mask_path)\n",
    "        mask_path = mask_path.replace('my_gts','my_gts_cropped')\n",
    "        if 'images' in img_path:\n",
    "            img_path = img_path.replace('images','images_cropped')\n",
    "        if 'Images' in img_path:\n",
    "            img_path = img_path.replace('Images','images_cropped')\n",
    "        if '650image' in img_path:\n",
    "            img_path = img_path.replace('650image','images_cropped')\n",
    "        if 'MESSIDOR' in img_path:\n",
    "            img_path = img_path.replace('MESSIDOR','MESSIDOR_cropped')\n",
    "        if 'Magrabia' in img_path:\n",
    "            img_path = img_path.replace('Magrabia','Magrabia_cropped')\n",
    "        if 'BinRushed' in img_path:\n",
    "            img_path = img_path.replace('BinRushed','BinRushed_cropped')\n",
    "        if 'imgs' in img_path:\n",
    "            img_path = img_path.replace('imgs','images_cropped')\n",
    "        image_name = os.path.basename(img_path)\n",
    "        mask_name = os.path.basename(mask_path)\n",
    "        img_root = img_path.split(image_name)[0]\n",
    "        mask_root = mask_path.split(mask_name)[0]\n",
    "        if not os.path.exists(img_root):\n",
    "            os.makedirs(img_root)\n",
    "        if not os.path.exists(mask_root):\n",
    "            os.makedirs(mask_root)\n",
    "        mask_name = os.path.basename(mask_path)\n",
    "        cropped_img_path = os.path.join(img_root,image_name)\n",
    "        cropped_mask_path = os.path.join(mask_root,mask_name)\n",
    "        cf.write(cropped_img_path+' '+cropped_mask_path+'\\n')\n",
    "\n",
    "        cropped_img.save(cropped_img_path)\n",
    "        cropped_mask.save(cropped_mask_path)\n",
    "print('done')\n"
   ],
   "metadata": {
    "collapsed": false,
    "pycharm": {
     "name": "#%%\n"
    }
   }
  }
 ],
 "metadata": {
  "kernelspec": {
   "display_name": "Python 3",
   "language": "python",
   "name": "python3"
  },
  "language_info": {
   "codemirror_mode": {
    "name": "ipython",
    "version": 2
   },
   "file_extension": ".py",
   "mimetype": "text/x-python",
   "name": "python",
   "nbconvert_exporter": "python",
   "pygments_lexer": "ipython2",
   "version": "2.7.6"
  }
 },
 "nbformat": 4,
 "nbformat_minor": 0
}