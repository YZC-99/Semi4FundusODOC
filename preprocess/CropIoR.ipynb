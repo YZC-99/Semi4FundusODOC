{
 "cells": [
  {
   "cell_type": "code",
   "execution_count": 66,
   "metadata": {
    "collapsed": true
   },
   "outputs": [],
   "source": [
    "import numpy as np\n",
    "from PIL import Image\n",
    "from make_gts import color_map\n",
    "import os\n",
    "import re"
   ]
  },
  {
   "cell_type": "code",
   "execution_count": 57,
   "outputs": [],
   "source": [
    "cmap = color_map('fundus')"
   ],
   "metadata": {
    "collapsed": false,
    "pycharm": {
     "name": "#%%\n"
    }
   }
  },
  {
   "cell_type": "code",
   "execution_count": 28,
   "outputs": [],
   "source": [
    "def compute_padding(length):\n",
    "    length_padding = 512-length\n",
    "    left_bottom_padding = np.around(length_padding/2).astype(np.uint8)\n",
    "    right_top_padding = left_bottom_padding\n",
    "    if not length_padding % 2:\n",
    "        right_top_padding += 1\n",
    "    return left_bottom_padding,right_top_padding\n",
    "\n",
    "def crop(img_path,mask_path):\n",
    "    mask_arr = np.array(Image.open(mask_path))\n",
    "    img_arr = np.array(Image.open(img_path))\n",
    "    mask_lt0= mask_arr > 0\n",
    "    mask_lt0_indexs  = np.where(mask_lt0)\n",
    "    width_idx,height_idx = mask_lt0_indexs[0],mask_lt0_indexs[1]\n",
    "    top,bottom = width_idx.min(),width_idx.max()\n",
    "    left,right = height_idx.min(),height_idx.max()\n",
    "\n",
    "    width = right-left\n",
    "    height = bottom-top\n",
    "    left_padding,right_padding = compute_padding(width)\n",
    "    bottom_padding,top_padding = compute_padding(height)\n",
    "    # 开始裁剪图片\n",
    "    new_left = left-left_padding\n",
    "    new_right = right+right_padding-1\n",
    "    new_bottom = bottom+bottom_padding-1\n",
    "    new_top = top-top_padding\n",
    "    cropped_mask_arr = mask_arr[new_top:new_bottom,new_left:new_right]\n",
    "    cropped_img_arr = img_arr[new_top:new_bottom,new_left:new_right]\n",
    "\n",
    "    cropped_img = Image.fromarray(cropped_img_arr)\n",
    "    cropped_mask = Image.fromarray(cropped_mask_arr,mode='P')\n",
    "    cropped_mask.putpalette(cmap)\n",
    "    return cropped_img,cropped_mask"
   ],
   "metadata": {
    "collapsed": false,
    "pycharm": {
     "name": "#%%\n"
    }
   }
  },
  {
   "cell_type": "code",
   "execution_count": 65,
   "outputs": [
    {
     "name": "stdout",
     "output_type": "stream",
     "text": [
      "[0 1 2]\n",
      "(512, 512)\n"
     ]
    }
   ],
   "source": [
    "image_root = '/root/autodl-tmp/data/SEG'\n",
    "for root,dirs,files in os.walk(image_root):\n",
    "    pattern = re.compile(r'.*\\..*')\n",
    "    if pattern.match(files):\n",
    "        for file in files:\n",
    "            path = os.path.join(root,file)\n",
    "            print(os.path.basename(path))\n"
   ],
   "metadata": {
    "collapsed": false,
    "pycharm": {
     "name": "#%%\n"
    }
   }
  },
  {
   "cell_type": "code",
   "execution_count": 62,
   "outputs": [],
   "source": [],
   "metadata": {
    "collapsed": false,
    "pycharm": {
     "name": "#%%\n"
    }
   }
  }
 ],
 "metadata": {
  "kernelspec": {
   "display_name": "Python 3",
   "language": "python",
   "name": "python3"
  },
  "language_info": {
   "codemirror_mode": {
    "name": "ipython",
    "version": 2
   },
   "file_extension": ".py",
   "mimetype": "text/x-python",
   "name": "python",
   "nbconvert_exporter": "python",
   "pygments_lexer": "ipython2",
   "version": "2.7.6"
  }
 },
 "nbformat": 4,
 "nbformat_minor": 0
}